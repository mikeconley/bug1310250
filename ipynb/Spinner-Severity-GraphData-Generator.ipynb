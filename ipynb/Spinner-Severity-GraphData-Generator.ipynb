{
 "cells": [
  {
   "cell_type": "code",
   "execution_count": null,
   "metadata": {
    "collapsed": false
   },
   "outputs": [],
   "source": [
    "import ujson as json\n",
    "import matplotlib.pyplot as plt\n",
    "import pandas as pd\n",
    "import numpy as np\n",
    "import plotly.plotly as py\n",
    "from datetime import datetime, timedelta\n",
    "\n",
    "from plotly.graph_objs import *\n",
    "from moztelemetry import get_pings_properties, get_one_ping_per_client\n",
    "from moztelemetry.dataset import Dataset\n",
    "\n",
    "%matplotlib inline"
   ]
  },
  {
   "cell_type": "code",
   "execution_count": null,
   "metadata": {
    "collapsed": false
   },
   "outputs": [],
   "source": [
    "sc.defaultParallelism"
   ]
  },
  {
   "cell_type": "markdown",
   "metadata": {},
   "source": [
    "The FX_TAB_SWITCH_SPINNER_VISIBLE_LONG_MS probe was introduced and made opt-out on the September 8th, 2016 build. Let's make sure we only examine builds from that point and after."
   ]
  },
  {
   "cell_type": "code",
   "execution_count": null,
   "metadata": {
    "collapsed": false
   },
   "outputs": [],
   "source": [
    "probe_available = datetime(2016, 9, 8)\n",
    "days_to_look_back = 180\n",
    "start_date = max(probe_available, datetime.today() - timedelta(days=days_to_look_back)).strftime(\"%Y%m%d\")\n",
    "start_date"
   ]
  },
  {
   "cell_type": "code",
   "execution_count": null,
   "metadata": {
    "collapsed": false
   },
   "outputs": [],
   "source": [
    "end_date = datetime.today().strftime(\"%Y%m%d\")\n",
    "end_date"
   ]
  },
  {
   "cell_type": "code",
   "execution_count": null,
   "metadata": {
    "collapsed": false
   },
   "outputs": [],
   "source": [
    "pings = Dataset.from_source(\"telemetry\") \\\n",
    "    .where(docType='main') \\\n",
    "    .where(appBuildId=lambda b: (b.startswith(start_date) or b > start_date) and (b.startswith(end_date) or b < end_date)) \\\n",
    "    .where(appUpdateChannel=\"nightly\") \\\n",
    "    .records(sc, sample=1.0)"
   ]
  },
  {
   "cell_type": "code",
   "execution_count": null,
   "metadata": {
    "collapsed": true
   },
   "outputs": [],
   "source": [
    "properties = [\"clientId\",\n",
    "              \"payload/histograms/FX_TAB_SWITCH_SPINNER_VISIBLE_LONG_MS\",\n",
    "              \"payload/histograms/FX_TAB_SWITCH_SPINNER_VISIBLE_MS\",\n",
    "              \"environment/system/os/name\",\n",
    "              \"application/buildId\",\n",
    "              \"environment/settings/e10sEnabled\"]"
   ]
  },
  {
   "cell_type": "code",
   "execution_count": null,
   "metadata": {
    "collapsed": false
   },
   "outputs": [],
   "source": [
    "ping_props = get_pings_properties(pings, properties)"
   ]
  },
  {
   "cell_type": "markdown",
   "metadata": {},
   "source": [
    "For now, we're focusing in on our Windows users, so let's filter out anything that's not Windows."
   ]
  },
  {
   "cell_type": "code",
   "execution_count": null,
   "metadata": {
    "collapsed": true
   },
   "outputs": [],
   "source": [
    "def windows_only(p):\n",
    "    return p[\"environment/system/os/name\"] == \"Windows_NT\"\n",
    "\n",
    "windows_pings_only = ping_props.filter(windows_only)\n",
    "\n",
    "def e10s_enabled_only(p):\n",
    "    return p[\"environment/settings/e10sEnabled\"]\n",
    "\n",
    "e10s_enabled_on_windows_pings_only = windows_pings_only.filter(e10s_enabled_only)"
   ]
  },
  {
   "cell_type": "markdown",
   "metadata": {},
   "source": [
    "To make it easier to group by both build ID and client ID, we'll map the histograms to a tuple of (build ID, client ID), and then reduce the histograms on that key to accumulate all pings that came in for the same client and the same build.\n",
    "\n",
    "Note that if the client pinged but didn't have the histogram, the value in the key-value pair will be `None`."
   ]
  },
  {
   "cell_type": "code",
   "execution_count": null,
   "metadata": {
    "collapsed": false
   },
   "outputs": [],
   "source": [
    "def long_spinners_keyed_by_build_and_client(ping):\n",
    "    return ((ping[\"application/buildId\"][:8], ping[\"clientId\"]), (ping[\"payload/histograms/FX_TAB_SWITCH_SPINNER_VISIBLE_LONG_MS\"], ping[\"payload/histograms/FX_TAB_SWITCH_SPINNER_VISIBLE_MS\"]))\n",
    "\n",
    "def none_is_subsumed(x, y):\n",
    "    long_x = x[0]\n",
    "    long_y = y[0]\n",
    "    short_x = x[1]\n",
    "    short_y = y[1]\n",
    "\n",
    "    if long_x is None:\n",
    "        long_x = pd.Series()\n",
    "    if long_y is None:\n",
    "        long_y = pd.Series()\n",
    "    if short_x is None:\n",
    "        short_x = pd.Series()\n",
    "    if short_y is None:\n",
    "        short_y = pd.Series()\n",
    "\n",
    "    return (long_x.add(long_y, fill_value=0.0), short_x.add(short_y, fill_value=0.0))\n",
    "\n",
    "grouped_spinners = e10s_enabled_on_windows_pings_only.repartition(200).map(long_spinners_keyed_by_build_and_client).reduceByKey(none_is_subsumed)"
   ]
  },
  {
   "cell_type": "markdown",
   "metadata": {},
   "source": [
    "The histogram for the spinner looks like this:\n",
    "\n",
    "```\n",
    " 0        1.0\n",
    " 1000     0.0\n",
    " 2297     0.0\n",
    " 5277     0.0\n",
    " 12124    0.0\n",
    " 27856    0.0\n",
    " 64000    0.0\n",
    " dtype: float64,\n",
    "```\n",
    "\n",
    "And we've combined all of the client histograms by build ID. What that means is that `grouped_spinners` is keyed on (build ID, client ID) and the value is the sum of all of the spinner histograms (or `None` if the client never saw a spinner for that build). Next, we'll look at each spinner histogram sum, and bucket based on where we see values > 1.\n",
    "\n",
    "We'll just use a pandas `Series` for the bucket structure."
   ]
  },
  {
   "cell_type": "code",
   "execution_count": null,
   "metadata": {
    "collapsed": false
   },
   "outputs": [],
   "source": [
    "def bucket_by_long_severity_per_client(spinner_pair):\n",
    "    buildId = spinner_pair[0][0]\n",
    "    hist = spinner_pair[1][0]\n",
    "    named_index = [\"unaffected\",\n",
    "                   \"0ms - 999ms\",\n",
    "                   \"1000ms - 2296ms\",\n",
    "                   \"2297ms - 5276ms\",\n",
    "                   \"5277ms - 12123ms\",\n",
    "                   \"12124ms - 27855ms\",\n",
    "                   \"27856ms - 63999ms\",\n",
    "                   \"64000ms+\"]\n",
    "    \n",
    "    severity = pd.Series([0, 0, 0, 0, 0, 0, 0, 0], index=named_index)\n",
    "\n",
    "    if hist is None or hist.empty:\n",
    "        severity[named_index[0]] = 1\n",
    "    elif hist[64000] > 0:\n",
    "        severity[named_index[7]] = 1\n",
    "    elif hist[27856] > 0:\n",
    "        severity[named_index[6]] = 1\n",
    "    elif hist[12124] > 0:\n",
    "        severity[named_index[5]] = 1\n",
    "    elif hist[5277] > 0:\n",
    "        severity[named_index[4]] = 1\n",
    "    elif hist[2297] > 0:\n",
    "        severity[named_index[3]] = 1\n",
    "    elif hist[1000] > 0:\n",
    "        severity[named_index[2]] = 1\n",
    "    elif hist[0] > 0:\n",
    "        severity[named_index[1]] = 1\n",
    "\n",
    "    return (buildId, severity)\n",
    "\n",
    "bucketed_long_spinners_keyed_by_build = grouped_spinners.map(bucket_by_long_severity_per_client)"
   ]
  },
  {
   "cell_type": "code",
   "execution_count": null,
   "metadata": {
    "collapsed": false
   },
   "outputs": [],
   "source": [
    "final_long_tally = bucketed_long_spinners_keyed_by_build.reduceByKey(lambda x, y: x + y)"
   ]
  },
  {
   "cell_type": "code",
   "execution_count": null,
   "metadata": {
    "collapsed": false
   },
   "outputs": [],
   "source": [
    "def to_percentages(build_severities):\n",
    "    severities = build_severities[1]\n",
    "    total_clients = severities.sum()\n",
    "    return (build_severities[0], severities / total_clients)\n",
    "\n",
    "repartitioned_long = final_long_tally.repartition(200)\n"
   ]
  },
  {
   "cell_type": "code",
   "execution_count": null,
   "metadata": {
    "collapsed": true
   },
   "outputs": [],
   "source": [
    "percentages_long = repartitioned_long.map(to_percentages)"
   ]
  },
  {
   "cell_type": "code",
   "execution_count": null,
   "metadata": {
    "collapsed": false
   },
   "outputs": [],
   "source": [
    "collected_percentages_long = percentages_long.collect()"
   ]
  },
  {
   "cell_type": "code",
   "execution_count": null,
   "metadata": {
    "collapsed": false
   },
   "outputs": [],
   "source": [
    "final_result_long = sorted(collected_percentages_long, key=lambda result: result[0])\n",
    "#final_result_long"
   ]
  },
  {
   "cell_type": "code",
   "execution_count": null,
   "metadata": {
    "collapsed": true
   },
   "outputs": [],
   "source": [
    "def bucket_by_short_severity_per_client(spinner_pair):\n",
    "    buildId = spinner_pair[0][0]\n",
    "    long_hist = spinner_pair[1][0]\n",
    "    hist = spinner_pair[1][1]\n",
    "\n",
    "    named_index = [\"unaffected\",\n",
    "                   \"not short\",\n",
    "                   \"0ms - 49ms\",\n",
    "                   \"50ms - 99ms\",\n",
    "                   \"100ms - 199ms\",\n",
    "                   \"200ms - 399ms\",\n",
    "                   \"400ms - 799ms\",\n",
    "                   \"800ms+\"]\n",
    "    \n",
    "    severity = pd.Series([0, 0, 0, 0, 0, 0, 0, 0], index=named_index)\n",
    "\n",
    "    if hist is None or hist.empty:\n",
    "        severity[named_index[0]] = 1\n",
    "    elif long_hist[long_hist.index > 1000].sum() > 0:\n",
    "        severity[named_index[1]] = 1\n",
    "    elif hist[hist.index >= 800].sum() > 0:\n",
    "        severity[named_index[7]] = 1\n",
    "    elif hist[hist.index >= 400].sum() > 0:\n",
    "        severity[named_index[6]] = 1\n",
    "    elif hist[hist.index >= 200].sum() > 0:\n",
    "        severity[named_index[5]] = 1\n",
    "    elif hist[hist.index >= 100].sum() > 0:\n",
    "        severity[named_index[4]] = 1\n",
    "    elif hist[hist.index >= 50].sum() > 0:\n",
    "        severity[named_index[3]] = 1\n",
    "    elif hist[hist.index >= 0].sum() > 0:\n",
    "        severity[named_index[2]] = 1\n",
    "\n",
    "    return (buildId, severity)\n",
    "\n",
    "bucketed_short_spinners_keyed_by_build = grouped_spinners.map(bucket_by_short_severity_per_client)\n"
   ]
  },
  {
   "cell_type": "code",
   "execution_count": null,
   "metadata": {
    "collapsed": true
   },
   "outputs": [],
   "source": [
    "final_short_tally = bucketed_short_spinners_keyed_by_build.reduceByKey(lambda x, y: x + y)"
   ]
  },
  {
   "cell_type": "code",
   "execution_count": null,
   "metadata": {
    "collapsed": true
   },
   "outputs": [],
   "source": [
    "repartitioned_short = final_short_tally.repartition(200)\n",
    "short_percentages = final_short_tally.map(to_percentages)"
   ]
  },
  {
   "cell_type": "code",
   "execution_count": null,
   "metadata": {
    "collapsed": false
   },
   "outputs": [],
   "source": [
    "collected_percentages_short = short_percentages.collect()"
   ]
  },
  {
   "cell_type": "code",
   "execution_count": null,
   "metadata": {
    "collapsed": false
   },
   "outputs": [],
   "source": [
    "final_result_short = sorted(collected_percentages_short, key=lambda result: result[0])\n",
    "#final_result_short"
   ]
  },
  {
   "cell_type": "code",
   "execution_count": null,
   "metadata": {
    "collapsed": false
   },
   "outputs": [],
   "source": [
    "final_construction = {\n",
    "    'long': final_result_long,\n",
    "    'short': final_result_short,\n",
    "}\n",
    "\n",
    "import ujson as json\n",
    "filename = \"./output/severities_by_build_id.json\"\n",
    "final_result_json = json.dumps(final_construction, ensure_ascii=False)\n",
    "\n",
    "with open(filename, 'w') as f:\n",
    "    f.write(final_result_json)\n",
    "\n",
    "final_construction"
   ]
  },
  {
   "cell_type": "code",
   "execution_count": null,
   "metadata": {
    "collapsed": true
   },
   "outputs": [],
   "source": []
  },
  {
   "cell_type": "code",
   "execution_count": null,
   "metadata": {
    "collapsed": true
   },
   "outputs": [],
   "source": []
  }
 ],
 "metadata": {
  "anaconda-cloud": {},
  "kernelspec": {
   "display_name": "Python [default]",
   "language": "python",
   "name": "python2"
  },
  "language_info": {
   "codemirror_mode": {
    "name": "ipython",
    "version": 2
   },
   "file_extension": ".py",
   "mimetype": "text/x-python",
   "name": "python",
   "nbconvert_exporter": "python",
   "pygments_lexer": "ipython2",
   "version": "2.7.12"
  }
 },
 "nbformat": 4,
 "nbformat_minor": 1
}
